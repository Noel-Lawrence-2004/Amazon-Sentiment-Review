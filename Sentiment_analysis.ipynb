{
 "cells": [
  {
   "cell_type": "code",
   "execution_count": null,
   "id": "5bd10b36",
   "metadata": {},
   "outputs": [],
   "source": [
    "import pandas as pd\n",
    "import nltk\n",
    "import numpy as np\n",
    "\n",
    "import matplotlib.pyplot as plt\n",
    "import seaborn as sns\n",
    "\n",
    "from sklearn.naive_bayes import MultinomialNB\n",
    "from sklearn.metrics import accuracy_score, classification_report\n",
    "from sklearn.feature_extraction.text import CountVectorizer\n",
    "from nltk.corpus import stopwords\n",
    "from nltk.stem import WordNetLemmatizer\n",
    "from nltk.tokenize import word_tokenize\n",
    "import re\n",
    "from sklearn.model_selection import train_test_split\n",
    "from sklearn.datasets import load_files\n",
    "\n",
    "from sklearn.svm import LinearSVC\n",
    "from nltk.sentiment import SentimentIntensityAnalyzer\n",
    "from tqdm.notebook import tqdm\n",
    "\n",
    "from transformers import AutoTokenizer\n",
    "from transformers import AutoModelForSequenceClassification\n",
    "from scipy.special import softmax"
   ]
  },
  {
   "cell_type": "markdown",
   "id": "ed8a6ee9",
   "metadata": {},
   "source": [
    "# Getting the Data"
   ]
  },
  {
   "cell_type": "code",
   "execution_count": 3,
   "id": "3a528025",
   "metadata": {},
   "outputs": [],
   "source": [
    "df_full=pd.read_csv('reviews.csv')\n",
    "df=df_full[:500]"
   ]
  },
  {
   "cell_type": "code",
   "execution_count": 5,
   "id": "137ce422",
   "metadata": {},
   "outputs": [
    {
     "data": {
      "text/plain": [
       "5    339\n",
       "4     70\n",
       "3     37\n",
       "1     36\n",
       "2     18\n",
       "Name: Score, dtype: int64"
      ]
     },
     "execution_count": 5,
     "metadata": {},
     "output_type": "execute_result"
    }
   ],
   "source": [
    "df['Score'].value_counts()"
   ]
  },
  {
   "cell_type": "markdown",
   "id": "df5745f3",
   "metadata": {},
   "source": [
    "# Preprocessing"
   ]
  },
  {
   "cell_type": "code",
   "execution_count": null,
   "id": "4877cc5b",
   "metadata": {},
   "outputs": [],
   "source": [
    "def preprocess(text):\n",
    "    \n",
    "    # Remove HTML tags\n",
    "    text = re.sub(r'<.*?>', '', text)\n",
    "    \n",
    "    # Remove non-alphabetic characters\n",
    "    text = re.sub(r'[^a-zA-Z]', ' ', text)\n",
    "    \n",
    "    # Lowercase\n",
    "    text = text.lower()\n",
    "    \n",
    "    # Tokenization\n",
    "    words = word_tokenize(text)\n",
    "    \n",
    "    # Stopword removal and Lemmatization\n",
    "    stop_words = set(stopwords.words('english'))\n",
    "    lemmatizer = WordNetLemmatizer()\n",
    "    words = [lemmatizer.lemmatize(word) for word in words if word not in stop_words]\n",
    "    \n",
    "    # Join the words back into a single string\n",
    "    text = ' '.join(words)\n",
    "    \n",
    "    return text\n",
    "\n",
    "\n"
   ]
  },
  {
   "cell_type": "code",
   "execution_count": null,
   "id": "044bb771",
   "metadata": {
    "scrolled": true
   },
   "outputs": [
    {
     "name": "stderr",
     "output_type": "stream",
     "text": [
      "C:\\Users\\Noel\\AppData\\Local\\Temp\\ipykernel_10704\\1012049759.py:2: SettingWithCopyWarning: \n",
      "A value is trying to be set on a copy of a slice from a DataFrame.\n",
      "Try using .loc[row_indexer,col_indexer] = value instead\n",
      "\n",
      "See the caveats in the documentation: https://pandas.pydata.org/pandas-docs/stable/user_guide/indexing.html#returning-a-view-versus-a-copy\n",
      "  df['PreprocessedText'] = [preprocess(text) for text in df['Text']]\n"
     ]
    }
   ],
   "source": [
    "\n",
    "df['PreprocessedText'] = [preprocess(text) for text in df['Text']]\n"
   ]
  },
  {
   "cell_type": "code",
   "execution_count": 11,
   "id": "39be0f6a",
   "metadata": {},
   "outputs": [],
   "source": [
    "X=df['PreprocessedText']\n",
    "y=df['Score']"
   ]
  },
  {
   "cell_type": "markdown",
   "id": "ab473c43",
   "metadata": {},
   "source": [
    "# Feature Extraction"
   ]
  },
  {
   "cell_type": "code",
   "execution_count": 12,
   "id": "448c30b3",
   "metadata": {},
   "outputs": [
    {
     "name": "stdout",
     "output_type": "stream",
     "text": [
      "400 100 400 100\n"
     ]
    }
   ],
   "source": [
    "X_train,X_test,y_train,y_test=train_test_split(X,y,random_state=15,test_size=0.2)\n",
    "print(len(X_train),len(X_test),len(y_train),len(y_test))"
   ]
  },
  {
   "cell_type": "code",
   "execution_count": null,
   "id": "2e013c1d",
   "metadata": {},
   "outputs": [],
   "source": [
    "\n",
    "\n",
    "# BoW vectorization\n",
    "vectorizer = CountVectorizer()\n",
    "X_train_vec = vectorizer.fit_transform(X_train)\n",
    "X_test_vec = vectorizer.transform(X_test)\n",
    "\n"
   ]
  },
  {
   "cell_type": "code",
   "execution_count": null,
   "id": "8c40c2ff",
   "metadata": {},
   "outputs": [
    {
     "data": {
      "text/html": [
       "<div>\n",
       "<style scoped>\n",
       "    .dataframe tbody tr th:only-of-type {\n",
       "        vertical-align: middle;\n",
       "    }\n",
       "\n",
       "    .dataframe tbody tr th {\n",
       "        vertical-align: top;\n",
       "    }\n",
       "\n",
       "    .dataframe thead th {\n",
       "        text-align: right;\n",
       "    }\n",
       "</style>\n",
       "<table border=\"1\" class=\"dataframe\">\n",
       "  <thead>\n",
       "    <tr style=\"text-align: right;\">\n",
       "      <th></th>\n",
       "      <th>also</th>\n",
       "      <th>amazon</th>\n",
       "      <th>bag</th>\n",
       "      <th>best</th>\n",
       "      <th>better</th>\n",
       "      <th>box</th>\n",
       "      <th>brand</th>\n",
       "      <th>buy</th>\n",
       "      <th>cat</th>\n",
       "      <th>chip</th>\n",
       "      <th>...</th>\n",
       "      <th>tea</th>\n",
       "      <th>time</th>\n",
       "      <th>tried</th>\n",
       "      <th>try</th>\n",
       "      <th>use</th>\n",
       "      <th>used</th>\n",
       "      <th>water</th>\n",
       "      <th>well</th>\n",
       "      <th>would</th>\n",
       "      <th>year</th>\n",
       "    </tr>\n",
       "  </thead>\n",
       "  <tbody>\n",
       "    <tr>\n",
       "      <th>0</th>\n",
       "      <td>0.000000</td>\n",
       "      <td>0.0</td>\n",
       "      <td>0.000000</td>\n",
       "      <td>0.000000</td>\n",
       "      <td>0.000000</td>\n",
       "      <td>0.00000</td>\n",
       "      <td>0.000000</td>\n",
       "      <td>0.000000</td>\n",
       "      <td>0.0</td>\n",
       "      <td>0.000000</td>\n",
       "      <td>...</td>\n",
       "      <td>0.000000</td>\n",
       "      <td>0.000000</td>\n",
       "      <td>0.0</td>\n",
       "      <td>0.0</td>\n",
       "      <td>0.000000</td>\n",
       "      <td>0.000000</td>\n",
       "      <td>0.000000</td>\n",
       "      <td>0.000000</td>\n",
       "      <td>0.0</td>\n",
       "      <td>0.000000</td>\n",
       "    </tr>\n",
       "    <tr>\n",
       "      <th>1</th>\n",
       "      <td>0.000000</td>\n",
       "      <td>0.0</td>\n",
       "      <td>0.662740</td>\n",
       "      <td>0.000000</td>\n",
       "      <td>0.000000</td>\n",
       "      <td>0.00000</td>\n",
       "      <td>0.238138</td>\n",
       "      <td>0.000000</td>\n",
       "      <td>0.0</td>\n",
       "      <td>0.623891</td>\n",
       "      <td>...</td>\n",
       "      <td>0.000000</td>\n",
       "      <td>0.000000</td>\n",
       "      <td>0.0</td>\n",
       "      <td>0.0</td>\n",
       "      <td>0.000000</td>\n",
       "      <td>0.000000</td>\n",
       "      <td>0.000000</td>\n",
       "      <td>0.000000</td>\n",
       "      <td>0.0</td>\n",
       "      <td>0.000000</td>\n",
       "    </tr>\n",
       "    <tr>\n",
       "      <th>2</th>\n",
       "      <td>0.281844</td>\n",
       "      <td>0.0</td>\n",
       "      <td>0.000000</td>\n",
       "      <td>0.000000</td>\n",
       "      <td>0.000000</td>\n",
       "      <td>0.00000</td>\n",
       "      <td>0.000000</td>\n",
       "      <td>0.000000</td>\n",
       "      <td>0.0</td>\n",
       "      <td>0.000000</td>\n",
       "      <td>...</td>\n",
       "      <td>0.000000</td>\n",
       "      <td>0.000000</td>\n",
       "      <td>0.0</td>\n",
       "      <td>0.0</td>\n",
       "      <td>0.260818</td>\n",
       "      <td>0.000000</td>\n",
       "      <td>0.000000</td>\n",
       "      <td>0.000000</td>\n",
       "      <td>0.0</td>\n",
       "      <td>0.000000</td>\n",
       "    </tr>\n",
       "    <tr>\n",
       "      <th>3</th>\n",
       "      <td>0.000000</td>\n",
       "      <td>0.0</td>\n",
       "      <td>0.000000</td>\n",
       "      <td>0.000000</td>\n",
       "      <td>0.000000</td>\n",
       "      <td>0.00000</td>\n",
       "      <td>0.000000</td>\n",
       "      <td>0.000000</td>\n",
       "      <td>0.0</td>\n",
       "      <td>0.000000</td>\n",
       "      <td>...</td>\n",
       "      <td>0.000000</td>\n",
       "      <td>0.442675</td>\n",
       "      <td>0.0</td>\n",
       "      <td>0.0</td>\n",
       "      <td>0.000000</td>\n",
       "      <td>0.000000</td>\n",
       "      <td>0.000000</td>\n",
       "      <td>0.000000</td>\n",
       "      <td>0.0</td>\n",
       "      <td>0.000000</td>\n",
       "    </tr>\n",
       "    <tr>\n",
       "      <th>4</th>\n",
       "      <td>0.141722</td>\n",
       "      <td>0.0</td>\n",
       "      <td>0.000000</td>\n",
       "      <td>0.000000</td>\n",
       "      <td>0.000000</td>\n",
       "      <td>0.00000</td>\n",
       "      <td>0.000000</td>\n",
       "      <td>0.000000</td>\n",
       "      <td>0.0</td>\n",
       "      <td>0.000000</td>\n",
       "      <td>...</td>\n",
       "      <td>0.000000</td>\n",
       "      <td>0.131149</td>\n",
       "      <td>0.0</td>\n",
       "      <td>0.0</td>\n",
       "      <td>0.131149</td>\n",
       "      <td>0.142828</td>\n",
       "      <td>0.000000</td>\n",
       "      <td>0.000000</td>\n",
       "      <td>0.0</td>\n",
       "      <td>0.279188</td>\n",
       "    </tr>\n",
       "    <tr>\n",
       "      <th>...</th>\n",
       "      <td>...</td>\n",
       "      <td>...</td>\n",
       "      <td>...</td>\n",
       "      <td>...</td>\n",
       "      <td>...</td>\n",
       "      <td>...</td>\n",
       "      <td>...</td>\n",
       "      <td>...</td>\n",
       "      <td>...</td>\n",
       "      <td>...</td>\n",
       "      <td>...</td>\n",
       "      <td>...</td>\n",
       "      <td>...</td>\n",
       "      <td>...</td>\n",
       "      <td>...</td>\n",
       "      <td>...</td>\n",
       "      <td>...</td>\n",
       "      <td>...</td>\n",
       "      <td>...</td>\n",
       "      <td>...</td>\n",
       "      <td>...</td>\n",
       "    </tr>\n",
       "    <tr>\n",
       "      <th>395</th>\n",
       "      <td>0.000000</td>\n",
       "      <td>0.0</td>\n",
       "      <td>0.000000</td>\n",
       "      <td>0.402659</td>\n",
       "      <td>0.000000</td>\n",
       "      <td>0.00000</td>\n",
       "      <td>0.000000</td>\n",
       "      <td>0.000000</td>\n",
       "      <td>0.0</td>\n",
       "      <td>0.000000</td>\n",
       "      <td>...</td>\n",
       "      <td>0.000000</td>\n",
       "      <td>0.000000</td>\n",
       "      <td>0.0</td>\n",
       "      <td>0.0</td>\n",
       "      <td>0.423032</td>\n",
       "      <td>0.460701</td>\n",
       "      <td>0.000000</td>\n",
       "      <td>0.000000</td>\n",
       "      <td>0.0</td>\n",
       "      <td>0.450271</td>\n",
       "    </tr>\n",
       "    <tr>\n",
       "      <th>396</th>\n",
       "      <td>0.000000</td>\n",
       "      <td>0.0</td>\n",
       "      <td>0.000000</td>\n",
       "      <td>0.000000</td>\n",
       "      <td>0.000000</td>\n",
       "      <td>0.00000</td>\n",
       "      <td>0.000000</td>\n",
       "      <td>0.271612</td>\n",
       "      <td>0.0</td>\n",
       "      <td>0.000000</td>\n",
       "      <td>...</td>\n",
       "      <td>0.000000</td>\n",
       "      <td>0.583984</td>\n",
       "      <td>0.0</td>\n",
       "      <td>0.0</td>\n",
       "      <td>0.000000</td>\n",
       "      <td>0.000000</td>\n",
       "      <td>0.000000</td>\n",
       "      <td>0.000000</td>\n",
       "      <td>0.0</td>\n",
       "      <td>0.000000</td>\n",
       "    </tr>\n",
       "    <tr>\n",
       "      <th>397</th>\n",
       "      <td>0.000000</td>\n",
       "      <td>0.0</td>\n",
       "      <td>0.000000</td>\n",
       "      <td>0.000000</td>\n",
       "      <td>0.434009</td>\n",
       "      <td>0.00000</td>\n",
       "      <td>0.000000</td>\n",
       "      <td>0.000000</td>\n",
       "      <td>0.0</td>\n",
       "      <td>0.000000</td>\n",
       "      <td>...</td>\n",
       "      <td>0.000000</td>\n",
       "      <td>0.000000</td>\n",
       "      <td>0.0</td>\n",
       "      <td>0.0</td>\n",
       "      <td>0.000000</td>\n",
       "      <td>0.000000</td>\n",
       "      <td>0.517391</td>\n",
       "      <td>0.000000</td>\n",
       "      <td>0.0</td>\n",
       "      <td>0.000000</td>\n",
       "    </tr>\n",
       "    <tr>\n",
       "      <th>398</th>\n",
       "      <td>0.000000</td>\n",
       "      <td>0.0</td>\n",
       "      <td>0.092142</td>\n",
       "      <td>0.000000</td>\n",
       "      <td>0.000000</td>\n",
       "      <td>0.22702</td>\n",
       "      <td>0.000000</td>\n",
       "      <td>0.000000</td>\n",
       "      <td>0.0</td>\n",
       "      <td>0.000000</td>\n",
       "      <td>...</td>\n",
       "      <td>0.908081</td>\n",
       "      <td>0.000000</td>\n",
       "      <td>0.0</td>\n",
       "      <td>0.0</td>\n",
       "      <td>0.000000</td>\n",
       "      <td>0.000000</td>\n",
       "      <td>0.000000</td>\n",
       "      <td>0.105221</td>\n",
       "      <td>0.0</td>\n",
       "      <td>0.103641</td>\n",
       "    </tr>\n",
       "    <tr>\n",
       "      <th>399</th>\n",
       "      <td>0.000000</td>\n",
       "      <td>0.0</td>\n",
       "      <td>0.486427</td>\n",
       "      <td>0.489279</td>\n",
       "      <td>0.000000</td>\n",
       "      <td>0.00000</td>\n",
       "      <td>0.000000</td>\n",
       "      <td>0.000000</td>\n",
       "      <td>0.0</td>\n",
       "      <td>0.457914</td>\n",
       "      <td>...</td>\n",
       "      <td>0.000000</td>\n",
       "      <td>0.000000</td>\n",
       "      <td>0.0</td>\n",
       "      <td>0.0</td>\n",
       "      <td>0.000000</td>\n",
       "      <td>0.000000</td>\n",
       "      <td>0.000000</td>\n",
       "      <td>0.000000</td>\n",
       "      <td>0.0</td>\n",
       "      <td>0.000000</td>\n",
       "    </tr>\n",
       "  </tbody>\n",
       "</table>\n",
       "<p>400 rows × 50 columns</p>\n",
       "</div>"
      ],
      "text/plain": [
       "         also  amazon       bag      best    better      box     brand  \\\n",
       "0    0.000000     0.0  0.000000  0.000000  0.000000  0.00000  0.000000   \n",
       "1    0.000000     0.0  0.662740  0.000000  0.000000  0.00000  0.238138   \n",
       "2    0.281844     0.0  0.000000  0.000000  0.000000  0.00000  0.000000   \n",
       "3    0.000000     0.0  0.000000  0.000000  0.000000  0.00000  0.000000   \n",
       "4    0.141722     0.0  0.000000  0.000000  0.000000  0.00000  0.000000   \n",
       "..        ...     ...       ...       ...       ...      ...       ...   \n",
       "395  0.000000     0.0  0.000000  0.402659  0.000000  0.00000  0.000000   \n",
       "396  0.000000     0.0  0.000000  0.000000  0.000000  0.00000  0.000000   \n",
       "397  0.000000     0.0  0.000000  0.000000  0.434009  0.00000  0.000000   \n",
       "398  0.000000     0.0  0.092142  0.000000  0.000000  0.22702  0.000000   \n",
       "399  0.000000     0.0  0.486427  0.489279  0.000000  0.00000  0.000000   \n",
       "\n",
       "          buy  cat      chip  ...       tea      time  tried  try       use  \\\n",
       "0    0.000000  0.0  0.000000  ...  0.000000  0.000000    0.0  0.0  0.000000   \n",
       "1    0.000000  0.0  0.623891  ...  0.000000  0.000000    0.0  0.0  0.000000   \n",
       "2    0.000000  0.0  0.000000  ...  0.000000  0.000000    0.0  0.0  0.260818   \n",
       "3    0.000000  0.0  0.000000  ...  0.000000  0.442675    0.0  0.0  0.000000   \n",
       "4    0.000000  0.0  0.000000  ...  0.000000  0.131149    0.0  0.0  0.131149   \n",
       "..        ...  ...       ...  ...       ...       ...    ...  ...       ...   \n",
       "395  0.000000  0.0  0.000000  ...  0.000000  0.000000    0.0  0.0  0.423032   \n",
       "396  0.271612  0.0  0.000000  ...  0.000000  0.583984    0.0  0.0  0.000000   \n",
       "397  0.000000  0.0  0.000000  ...  0.000000  0.000000    0.0  0.0  0.000000   \n",
       "398  0.000000  0.0  0.000000  ...  0.908081  0.000000    0.0  0.0  0.000000   \n",
       "399  0.000000  0.0  0.457914  ...  0.000000  0.000000    0.0  0.0  0.000000   \n",
       "\n",
       "         used     water      well  would      year  \n",
       "0    0.000000  0.000000  0.000000    0.0  0.000000  \n",
       "1    0.000000  0.000000  0.000000    0.0  0.000000  \n",
       "2    0.000000  0.000000  0.000000    0.0  0.000000  \n",
       "3    0.000000  0.000000  0.000000    0.0  0.000000  \n",
       "4    0.142828  0.000000  0.000000    0.0  0.279188  \n",
       "..        ...       ...       ...    ...       ...  \n",
       "395  0.460701  0.000000  0.000000    0.0  0.450271  \n",
       "396  0.000000  0.000000  0.000000    0.0  0.000000  \n",
       "397  0.000000  0.517391  0.000000    0.0  0.000000  \n",
       "398  0.000000  0.000000  0.105221    0.0  0.103641  \n",
       "399  0.000000  0.000000  0.000000    0.0  0.000000  \n",
       "\n",
       "[400 rows x 50 columns]"
      ]
     },
     "execution_count": 14,
     "metadata": {},
     "output_type": "execute_result"
    }
   ],
   "source": [
    "from sklearn.feature_extraction.text import TfidfVectorizer\n",
    "\n",
    "\n",
    "tfidf_vectorizer = TfidfVectorizer(max_features=50)\n",
    "\n",
    "X_train_tfidf = tfidf_vectorizer.fit_transform(X_train)\n",
    "X_test_tfidf = tfidf_vectorizer.transform(X_test)\n",
    "\n",
    "pd.DataFrame(X_train_tfidf.toarray(),columns=tfidf_vectorizer.get_feature_names_out())"
   ]
  },
  {
   "cell_type": "markdown",
   "id": "6bdb56db",
   "metadata": {},
   "source": [
    "# Naive bayes"
   ]
  },
  {
   "cell_type": "code",
   "execution_count": null,
   "id": "b7c100c8",
   "metadata": {},
   "outputs": [
    {
     "name": "stdout",
     "output_type": "stream",
     "text": [
      "Validation Accuracy: 0.62\n"
     ]
    }
   ],
   "source": [
    "# Naive Bayes classifier\n",
    "naive_bayes_model_cv = MultinomialNB()\n",
    "naive_bayes_model_cv.fit(X_train_vec, y_train)\n",
    "\n",
    "y_test_pred = naive_bayes_model_cv.predict(X_test_vec)\n",
    "\n",
    "accuracy_val = accuracy_score(y_test, y_test_pred)\n",
    "print(f\"Validation Accuracy: {accuracy_val:.2f}\")"
   ]
  },
  {
   "cell_type": "code",
   "execution_count": null,
   "id": "9e21267c",
   "metadata": {},
   "outputs": [
    {
     "name": "stdout",
     "output_type": "stream",
     "text": [
      "Validation Accuracy: 0.63\n"
     ]
    }
   ],
   "source": [
    "# Naive Bayes classifier on TF-idf\n",
    "naive_bayes_model_tf = MultinomialNB()\n",
    "naive_bayes_model_tf.fit(X_train_tfidf, y_train)\n",
    "\n",
    "y_test_pred = naive_bayes_model_tf.predict(X_test_tfidf)\n",
    "\n",
    "accuracy_val = accuracy_score(y_test, y_test_pred)\n",
    "print(f\"Validation Accuracy: {accuracy_val:.2f}\")"
   ]
  },
  {
   "cell_type": "markdown",
   "id": "c3805533",
   "metadata": {},
   "source": [
    "# SVM"
   ]
  },
  {
   "cell_type": "code",
   "execution_count": null,
   "id": "6c9cc120",
   "metadata": {},
   "outputs": [
    {
     "name": "stdout",
     "output_type": "stream",
     "text": [
      "Accuracy: 0.60\n",
      "Classification Report:\n",
      "              precision    recall  f1-score   support\n",
      "\n",
      "           1       0.30      0.75      0.43         4\n",
      "           2       0.00      0.00      0.00         6\n",
      "           3       0.33      0.08      0.13        12\n",
      "           4       0.17      0.13      0.15        15\n",
      "           5       0.73      0.86      0.79        63\n",
      "\n",
      "    accuracy                           0.60       100\n",
      "   macro avg       0.31      0.36      0.30       100\n",
      "weighted avg       0.54      0.60      0.55       100\n",
      "\n"
     ]
    }
   ],
   "source": [
    "# Linear SVM classifier\n",
    "svm_classifier_cv = LinearSVC()\n",
    "svm_classifier_cv.fit(X_train_vec, y_train)\n",
    "\n",
    "y_test_pred_cv = svm_classifier_cv.predict(X_test_vec)\n",
    "\n",
    "accuracy = accuracy_score(y_test, y_test_pred_cv)\n",
    "print(f\"Accuracy: {accuracy:.2f}\")\n",
    "\n",
    "print(\"Classification Report:\")\n",
    "print(classification_report(y_test, y_test_pred_cv))"
   ]
  },
  {
   "cell_type": "code",
   "execution_count": null,
   "id": "208d17dd",
   "metadata": {},
   "outputs": [
    {
     "name": "stdout",
     "output_type": "stream",
     "text": [
      "Accuracy: 0.58\n",
      "Classification Report:\n",
      "              precision    recall  f1-score   support\n",
      "\n",
      "           1       0.00      0.00      0.00         4\n",
      "           2       0.00      0.00      0.00         6\n",
      "           3       0.00      0.00      0.00        12\n",
      "           4       0.20      0.07      0.10        15\n",
      "           5       0.62      0.90      0.74        63\n",
      "\n",
      "    accuracy                           0.58       100\n",
      "   macro avg       0.16      0.19      0.17       100\n",
      "weighted avg       0.42      0.58      0.48       100\n",
      "\n"
     ]
    },
    {
     "name": "stderr",
     "output_type": "stream",
     "text": [
      "C:\\Python310\\lib\\site-packages\\sklearn\\metrics\\_classification.py:1344: UndefinedMetricWarning: Precision and F-score are ill-defined and being set to 0.0 in labels with no predicted samples. Use `zero_division` parameter to control this behavior.\n",
      "  _warn_prf(average, modifier, msg_start, len(result))\n",
      "C:\\Python310\\lib\\site-packages\\sklearn\\metrics\\_classification.py:1344: UndefinedMetricWarning: Precision and F-score are ill-defined and being set to 0.0 in labels with no predicted samples. Use `zero_division` parameter to control this behavior.\n",
      "  _warn_prf(average, modifier, msg_start, len(result))\n",
      "C:\\Python310\\lib\\site-packages\\sklearn\\metrics\\_classification.py:1344: UndefinedMetricWarning: Precision and F-score are ill-defined and being set to 0.0 in labels with no predicted samples. Use `zero_division` parameter to control this behavior.\n",
      "  _warn_prf(average, modifier, msg_start, len(result))\n"
     ]
    }
   ],
   "source": [
    "# Linear SVM classifier\n",
    "svm_classifier_tf = LinearSVC()\n",
    "svm_classifier_tf.fit(X_train_tfidf, y_train)\n",
    "\n",
    "y_test_pred_tf = svm_classifier_tf.predict(X_test_tfidf)\n",
    "\n",
    "accuracy = accuracy_score(y_test, y_test_pred_tf)\n",
    "print(f\"Accuracy: {accuracy:.2f}\")\n",
    "\n",
    "print(\"Classification Report:\")\n",
    "print(classification_report(y_test, y_test_pred_tf))"
   ]
  },
  {
   "cell_type": "markdown",
   "id": "a41fa86b",
   "metadata": {},
   "source": [
    "# Using Transformers"
   ]
  },
  {
   "cell_type": "code",
   "execution_count": 19,
   "id": "2e20d1e1",
   "metadata": {},
   "outputs": [],
   "source": [
    "df=df_full[:500]"
   ]
  },
  {
   "cell_type": "code",
   "execution_count": 22,
   "id": "9590131c",
   "metadata": {},
   "outputs": [],
   "source": [
    "sia=SentimentIntensityAnalyzer()"
   ]
  },
  {
   "cell_type": "code",
   "execution_count": 23,
   "id": "f046c800",
   "metadata": {},
   "outputs": [
    {
     "data": {
      "text/plain": [
       "{'neg': 0.0, 'neu': 0.213, 'pos': 0.787, 'compound': 0.5719}"
      ]
     },
     "execution_count": 23,
     "metadata": {},
     "output_type": "execute_result"
    }
   ],
   "source": [
    "sia.polarity_scores(\"I am happy\")"
   ]
  },
  {
   "cell_type": "code",
   "execution_count": null,
   "id": "436c5e27",
   "metadata": {},
   "outputs": [
    {
     "name": "stdout",
     "output_type": "stream",
     "text": [
      "      Id   ProductId          UserId                      ProfileName  \\\n",
      "0      1  B001E4KFG0  A3SGXH7AUHU8GW                       delmartian   \n",
      "1      2  B00813GRG4  A1D87F6ZCVE5NK                           dll pa   \n",
      "2      3  B000LQOCH0   ABXLMWJIXXAIN  Natalia Corres \"Natalia Corres\"   \n",
      "3      4  B000UA0QIQ  A395BORC6FGVXV                             Karl   \n",
      "4      5  B006K2ZZ7K  A1UQRSCLF8GW1T    Michael D. Bigham \"M. Wassir\"   \n",
      "..   ...         ...             ...                              ...   \n",
      "495  496  B000G6RYNE   APGAA43E3WPN7                           Darren   \n",
      "496  497  B000G6RYNE    ABR7HU5H1KNE                            Keith   \n",
      "497  498  B000G6RYNE   AJQD2WWJYOYFQ                          bubbles   \n",
      "498  499  B000G6RYNE  A16YH487W9ZYO0                 Bruce G. Lindsay   \n",
      "499  500  B000G6RYNE   A83YQC1XOU4CS                         J. Baker   \n",
      "\n",
      "     HelpfulnessNumerator  HelpfulnessDenominator  Score        Time  \\\n",
      "0                       1                       1      5  1303862400   \n",
      "1                       0                       0      1  1346976000   \n",
      "2                       1                       1      4  1219017600   \n",
      "3                       3                       3      2  1307923200   \n",
      "4                       0                       0      5  1350777600   \n",
      "..                    ...                     ...    ...         ...   \n",
      "495                     0                       0      5  1201392000   \n",
      "496                     0                       0      5  1196726400   \n",
      "497                     0                       0      4  1186617600   \n",
      "498                     0                       0      4  1184198400   \n",
      "499                     0                       0      5  1183420800   \n",
      "\n",
      "                             Summary  \\\n",
      "0              Good Quality Dog Food   \n",
      "1                  Not as Advertised   \n",
      "2              \"Delight\" says it all   \n",
      "3                     Cough Medicine   \n",
      "4                        Great taffy   \n",
      "..                               ...   \n",
      "495                    amazing chips   \n",
      "496                   Best Chip Ever   \n",
      "497  Tangy, spicy, and sweet- oh my!   \n",
      "498        An indulgence with a bite   \n",
      "499                The best I've had   \n",
      "\n",
      "                                                  Text  \\\n",
      "0    I have bought several of the Vitality canned d...   \n",
      "1    Product arrived labeled as Jumbo Salted Peanut...   \n",
      "2    This is a confection that has been around a fe...   \n",
      "3    If you are looking for the secret ingredient i...   \n",
      "4    Great taffy at a great price.  There was a wid...   \n",
      "..                                                 ...   \n",
      "495  i rarely eat chips but i saw these and tried t...   \n",
      "496  This is easily the best potato chip that I hav...   \n",
      "497  Kettle Chips Spicy Thai potato chips have the ...   \n",
      "498  Okay, I should not eat potato chips, nor shoul...   \n",
      "499  I don't write very many reviews but I have to ...   \n",
      "\n",
      "                                                   res  \n",
      "0    {'neg': 0.0, 'neu': 0.695, 'pos': 0.305, 'comp...  \n",
      "1    {'neg': 0.138, 'neu': 0.862, 'pos': 0.0, 'comp...  \n",
      "2    {'neg': 0.091, 'neu': 0.754, 'pos': 0.155, 'co...  \n",
      "3    {'neg': 0.0, 'neu': 1.0, 'pos': 0.0, 'compound...  \n",
      "4    {'neg': 0.0, 'neu': 0.552, 'pos': 0.448, 'comp...  \n",
      "..                                                 ...  \n",
      "495  {'neg': 0.0, 'neu': 0.554, 'pos': 0.446, 'comp...  \n",
      "496  {'neg': 0.059, 'neu': 0.799, 'pos': 0.142, 'co...  \n",
      "497  {'neg': 0.025, 'neu': 0.762, 'pos': 0.212, 'co...  \n",
      "498  {'neg': 0.041, 'neu': 0.904, 'pos': 0.055, 'co...  \n",
      "499  {'neg': 0.0, 'neu': 0.678, 'pos': 0.322, 'comp...  \n",
      "\n",
      "[500 rows x 11 columns]\n"
     ]
    },
    {
     "name": "stderr",
     "output_type": "stream",
     "text": [
      "C:\\Users\\Noel\\AppData\\Local\\Temp\\ipykernel_10704\\472529062.py:2: SettingWithCopyWarning: \n",
      "A value is trying to be set on a copy of a slice from a DataFrame.\n",
      "Try using .loc[row_indexer,col_indexer] = value instead\n",
      "\n",
      "See the caveats in the documentation: https://pandas.pydata.org/pandas-docs/stable/user_guide/indexing.html#returning-a-view-versus-a-copy\n",
      "  df['res'] = df['Text'].apply(lambda x: sia.polarity_scores(x))\n"
     ]
    }
   ],
   "source": [
    "df['res'] = df['Text'].apply(lambda x: sia.polarity_scores(x))\n",
    "\n",
    "print(df)"
   ]
  },
  {
   "cell_type": "code",
   "execution_count": 25,
   "id": "df274e23",
   "metadata": {},
   "outputs": [],
   "source": [
    "df=df[['Id',\"Score\",'Text','res']]"
   ]
  },
  {
   "cell_type": "code",
   "execution_count": null,
   "id": "40f0940a",
   "metadata": {},
   "outputs": [
    {
     "name": "stdout",
     "output_type": "stream",
     "text": [
      "      Id  Score                                               Text    neg  \\\n",
      "0      1      5  I have bought several of the Vitality canned d...  0.000   \n",
      "1      2      1  Product arrived labeled as Jumbo Salted Peanut...  0.138   \n",
      "2      3      4  This is a confection that has been around a fe...  0.091   \n",
      "3      4      2  If you are looking for the secret ingredient i...  0.000   \n",
      "4      5      5  Great taffy at a great price.  There was a wid...  0.000   \n",
      "..   ...    ...                                                ...    ...   \n",
      "495  496      5  i rarely eat chips but i saw these and tried t...  0.000   \n",
      "496  497      5  This is easily the best potato chip that I hav...  0.059   \n",
      "497  498      4  Kettle Chips Spicy Thai potato chips have the ...  0.025   \n",
      "498  499      4  Okay, I should not eat potato chips, nor shoul...  0.041   \n",
      "499  500      5  I don't write very many reviews but I have to ...  0.000   \n",
      "\n",
      "       neu    pos  compound  \n",
      "0    0.695  0.305    0.9441  \n",
      "1    0.862  0.000   -0.5664  \n",
      "2    0.754  0.155    0.8265  \n",
      "3    1.000  0.000    0.0000  \n",
      "4    0.552  0.448    0.9468  \n",
      "..     ...    ...       ...  \n",
      "495  0.554  0.446    0.9725  \n",
      "496  0.799  0.142    0.7833  \n",
      "497  0.762  0.212    0.9848  \n",
      "498  0.904  0.055    0.1280  \n",
      "499  0.678  0.322    0.9811  \n",
      "\n",
      "[500 rows x 7 columns]\n"
     ]
    },
    {
     "name": "stderr",
     "output_type": "stream",
     "text": [
      "C:\\Users\\Noel\\AppData\\Local\\Temp\\ipykernel_10704\\2043255299.py:1: SettingWithCopyWarning: \n",
      "A value is trying to be set on a copy of a slice from a DataFrame.\n",
      "Try using .loc[row_indexer,col_indexer] = value instead\n",
      "\n",
      "See the caveats in the documentation: https://pandas.pydata.org/pandas-docs/stable/user_guide/indexing.html#returning-a-view-versus-a-copy\n",
      "  df[['neg', 'neu', 'pos','compound']] = df['res'].apply(lambda x: pd.Series([x['neg'], x['neu'], x['pos'],x['compound']]))\n",
      "C:\\Users\\Noel\\AppData\\Local\\Temp\\ipykernel_10704\\2043255299.py:1: SettingWithCopyWarning: \n",
      "A value is trying to be set on a copy of a slice from a DataFrame.\n",
      "Try using .loc[row_indexer,col_indexer] = value instead\n",
      "\n",
      "See the caveats in the documentation: https://pandas.pydata.org/pandas-docs/stable/user_guide/indexing.html#returning-a-view-versus-a-copy\n",
      "  df[['neg', 'neu', 'pos','compound']] = df['res'].apply(lambda x: pd.Series([x['neg'], x['neu'], x['pos'],x['compound']]))\n",
      "C:\\Users\\Noel\\AppData\\Local\\Temp\\ipykernel_10704\\2043255299.py:1: SettingWithCopyWarning: \n",
      "A value is trying to be set on a copy of a slice from a DataFrame.\n",
      "Try using .loc[row_indexer,col_indexer] = value instead\n",
      "\n",
      "See the caveats in the documentation: https://pandas.pydata.org/pandas-docs/stable/user_guide/indexing.html#returning-a-view-versus-a-copy\n",
      "  df[['neg', 'neu', 'pos','compound']] = df['res'].apply(lambda x: pd.Series([x['neg'], x['neu'], x['pos'],x['compound']]))\n",
      "C:\\Users\\Noel\\AppData\\Local\\Temp\\ipykernel_10704\\2043255299.py:1: SettingWithCopyWarning: \n",
      "A value is trying to be set on a copy of a slice from a DataFrame.\n",
      "Try using .loc[row_indexer,col_indexer] = value instead\n",
      "\n",
      "See the caveats in the documentation: https://pandas.pydata.org/pandas-docs/stable/user_guide/indexing.html#returning-a-view-versus-a-copy\n",
      "  df[['neg', 'neu', 'pos','compound']] = df['res'].apply(lambda x: pd.Series([x['neg'], x['neu'], x['pos'],x['compound']]))\n"
     ]
    }
   ],
   "source": [
    "df[['neg', 'neu', 'pos','compound']] = df['res'].apply(lambda x: pd.Series([x['neg'], x['neu'], x['pos'],x['compound']]))\n",
    "\n",
    "df = df.drop('res', axis=1)\n",
    "\n",
    "print(df)"
   ]
  },
  {
   "cell_type": "code",
   "execution_count": 28,
   "id": "517b1593",
   "metadata": {},
   "outputs": [
    {
     "data": {
      "image/png": "[encoded data removed]",
      "text/plain": [
       "<Figure size 640x480 with 1 Axes>"
      ]
     },
     "metadata": {},
     "output_type": "display_data"
    }
   ],
   "source": [
    "ax = sns.barplot(data=df, x='Score', y='compound')\n",
    "ax.set_title('Compund Score by Amazon Star Review')\n",
    "plt.show()"
   ]
  },
  {
   "cell_type": "code",
   "execution_count": 29,
   "id": "d94f0a42",
   "metadata": {},
   "outputs": [
    {
     "data": {
      "image/png": "[encoded data removed]",
      "text/plain": [
       "<Figure size 1200x300 with 3 Axes>"
      ]
     },
     "metadata": {},
     "output_type": "display_data"
    }
   ],
   "source": [
    "fig, axs = plt.subplots(1, 3, figsize=(12, 3))\n",
    "sns.barplot(data=df, x='Score', y='pos', ax=axs[0])\n",
    "sns.barplot(data=df, x='Score', y='neu', ax=axs[1])\n",
    "sns.barplot(data=df, x='Score', y='neg', ax=axs[2])\n",
    "axs[0].set_title('Positive')\n",
    "axs[1].set_title('Neutral')\n",
    "axs[2].set_title('Negative')\n",
    "plt.tight_layout()\n",
    "plt.show()"
   ]
  },
  {
   "cell_type": "code",
   "execution_count": null,
   "id": "dd1a3ea7",
   "metadata": {},
   "outputs": [],
   "source": []
  },
  {
   "cell_type": "code",
   "execution_count": 31,
   "id": "c798ead6",
   "metadata": {},
   "outputs": [],
   "source": [
    "MODEL = f\"finiteautomata/bertweet-base-sentiment-analysis\"\n",
    "tokenizer = AutoTokenizer.from_pretrained(MODEL)\n",
    "model = AutoModelForSequenceClassification.from_pretrained(MODEL)"
   ]
  },
  {
   "cell_type": "code",
   "execution_count": null,
   "id": "e1815ddb",
   "metadata": {},
   "outputs": [
    {
     "name": "stdout",
     "output_type": "stream",
     "text": [
      "I have bought several of the Vitality canned dog food products and have found them all to be of good quality. The product looks more like a stew than a processed meat and it smells better. My Labrador is finicky and she appreciates this product better than  most.\n",
      "{'neg': 0.0, 'neu': 0.695, 'pos': 0.305, 'compound': 0.9441}\n",
      "Predicted sentiment: Positive\n"
     ]
    }
   ],
   "source": [
    "\n",
    "example=df['Text'][0]\n",
    "print(example)\n",
    "scores_dict=sia.polarity_scores(example)\n",
    "print(scores_dict)\n",
    "if scores_dict['compound']>0.1:\n",
    "    sentiment_label=\"Positive\"\n",
    "elif scores_dict['compound']<0:\n",
    "    sentiment_label=\"Negative\"\n",
    "else:\n",
    "    sentiment_label=\"Neutral\"\n",
    "print(\"Predicted sentiment:\", sentiment_label)"
   ]
  },
  {
   "cell_type": "code",
   "execution_count": null,
   "id": "19d7f6da",
   "metadata": {},
   "outputs": [
    {
     "name": "stdout",
     "output_type": "stream",
     "text": [
      "{'bert_neg': 0.0015636327, 'bert_neu': 0.0064980104, 'bert_pos': 0.9919383}\n",
      "Predicted sentiment: bert_pos\n"
     ]
    }
   ],
   "source": [
    "\n",
    "encoded_text = tokenizer(example, return_tensors='pt')\n",
    "output = model(**encoded_text)\n",
    "scores = output[0][0].detach().numpy()\n",
    "scores = softmax(scores)\n",
    "scores_dict = {\n",
    "    'Negative' : scores[0],\n",
    "    'Neutral' : scores[1],\n",
    "    'Positive' : scores[2]\n",
    "}\n",
    "print(scores_dict)\n",
    "\n",
    "sentiment_label = max(scores_dict, key=scores_dict.get)\n",
    "\n",
    "print(\"Predicted sentiment:\", sentiment_label)"
   ]
  },
  {
   "cell_type": "code",
   "execution_count": null,
   "id": "eaae85c6",
   "metadata": {},
   "outputs": [],
   "source": []
  }
 ],
 "metadata": {
  "kernelspec": {
   "display_name": "Python 3 (ipykernel)",
   "language": "python",
   "name": "python3"
  },
  "language_info": {
   "codemirror_mode": {
    "name": "ipython",
    "version": 3
   },
   "file_extension": ".py",
   "mimetype": "text/x-python",
   "name": "python",
   "nbconvert_exporter": "python",
   "pygments_lexer": "ipython3",
   "version": "3.10.6"
  }
 },
 "nbformat": 4,
 "nbformat_minor": 5
}
